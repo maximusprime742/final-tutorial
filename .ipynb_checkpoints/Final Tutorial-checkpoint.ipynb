{
 "cells": [
  {
   "cell_type": "markdown",
   "metadata": {},
   "source": [
    "# Music Over the Decades\n",
    "\n",
    "Music has been around for tens of thousands of years.\n",
    "Music first recorded in ---\n",
    "Spotify created in ---\n",
    "\n",
    "In this tutorial, we will use the Spotify API to look at popular music over the decades. Specifically, we will look at the All out 50's, 60's, 70's, 80's, 90's, 00's, and 10's playlists created by Spotify. This should provide us with a sufficient overview of popular music in the last century.\n",
    "\n",
    "\n",
    "### Part 1: Data Collection\n",
    "\n",
    "First things first, we need to collect our data. We will be using the Spotipy python library to interact with Spotify. The following steps allow us to use the Spotify API. This can easily be found on the Spotipy website which I have linked at the end of this tutorial. The environment variables listed below are for my personal Spotify account. You will have your own."
   ]
  },
  {
   "cell_type": "code",
   "execution_count": 1,
   "metadata": {},
   "outputs": [],
   "source": [
    "import spotipy\n",
    "from spotipy.oauth2 import SpotifyClientCredentials\n",
    "import os\n",
    "import pandas as pd\n",
    "\n",
    "os.environ['SPOTIPY_CLIENT_ID'] = '14bc2f79e1c9423397627283ad8c518e' # client id variable\n",
    "os.environ['SPOTIPY_CLIENT_SECRET'] = '84e9c4bd7c0848f59eccbc59f8ce6d97' # client secret variable\n",
    "\n",
    "auth_manager = SpotifyClientCredentials()\n",
    "sp = spotipy.Spotify(auth_manager=auth_manager) "
   ]
  },
  {
   "cell_type": "markdown",
   "metadata": {},
   "source": [
    "Now that we have access to Spotiy, we need to get our playlists and songs along with all of their data so we can perform some analysis. The two blocks of code below are functions found from another tutorial on How to Create Large Music Datasets Using Spotipy by Max Hilsdorf, link here: https://towardsdatascience.com/how-to-create-large-music-datasets-using-spotipy-40e7242cc6a6\n",
    "\n",
    "I have made some minor modifications to these functions, but they operate the same way as in the linked tutorial. We will use the analyze_playlist function to loop over all tracks in a playlist and store specific data related to each song in a dataframe. The second function, analyze_playlist_dict, will be used to concatenate the dataframes from each individual playlist into one large dataframe."
   ]
  },
  {
   "cell_type": "code",
   "execution_count": 2,
   "metadata": {},
   "outputs": [],
   "source": [
    "def analyze_playlist(playlist_id):\n",
    "    \n",
    "    # Create empty dataframe\n",
    "    playlist_features_list = [\"artist\", \"album\", \"track_name\", \"track_id\",\n",
    "                              \"danceability\", \"energy\", \"key\", \"loudness\",\n",
    "                              \"mode\", \"speechiness\", \"instrumentalness\", \"liveness\",\n",
    "                              \"valence\", \"tempo\", \"duration_ms\", \"time_signature\"]\n",
    "    \n",
    "    playlist_df = pd.DataFrame(columns = playlist_features_list)\n",
    "    \n",
    "    # Loop through every track in the playlist, extract features and append the features to the playlist df\n",
    "    playlist = sp.playlist_tracks(playlist_id)[\"items\"]\n",
    "    for track in playlist:\n",
    "        # Create empty dict\n",
    "        playlist_features = {}\n",
    "        # Get metadata\n",
    "        playlist_features[\"artist\"] = track[\"track\"][\"album\"][\"artists\"][0][\"name\"]\n",
    "        playlist_features[\"album\"] = track[\"track\"][\"album\"][\"name\"]\n",
    "        playlist_features[\"track_name\"] = track[\"track\"][\"name\"]\n",
    "        playlist_features[\"track_id\"] = track[\"track\"][\"id\"]\n",
    "        \n",
    "        # Get audio features\n",
    "        audio_features = sp.audio_features(playlist_features[\"track_id\"])[0]\n",
    "        for feature in playlist_features_list[4:]:\n",
    "            playlist_features[feature] = audio_features[feature]\n",
    "        \n",
    "        # Concat the dfs\n",
    "        track_df = pd.DataFrame(playlist_features, index = [0])\n",
    "        playlist_df = pd.concat([playlist_df, track_df], ignore_index = True)\n",
    "        \n",
    "    return playlist_df"
   ]
  },
  {
   "cell_type": "code",
   "execution_count": 5,
   "metadata": {},
   "outputs": [],
   "source": [
    "def analyze_playlist_dict(playlist_dict):\n",
    "    i = 0\n",
    "    # Loop through every playlist in the dict and analyze it\n",
    "    for name, playlist_id in playlist_dict.items():\n",
    "        playlist_df = analyze_playlist(playlist_id)\n",
    "        # Add a playlist column so that we can see which playlist a track belongs too\n",
    "        playlist_df[\"playlist\"] = name\n",
    "        #Create or concat df\n",
    "        if i == 0:\n",
    "            playlist_dict_df = playlist_df\n",
    "        else:\n",
    "            playlist_dict_df = pd.concat([playlist_dict_df, playlist_df], ignore_index = True)\n",
    "        i += 1\n",
    "        \n",
    "    return playlist_dict_df"
   ]
  },
  {
   "cell_type": "markdown",
   "metadata": {},
   "source": [
    "In order to access playlists, we need their playlist URI's. These can easily be found in the Spotify desktop app. The seven URI's for the mentioned playlists are stored in a dictionary below."
   ]
  },
  {
   "cell_type": "code",
   "execution_count": 6,
   "metadata": {},
   "outputs": [],
   "source": [
    "decades_URIs = {\n",
    "    'all_out_50s' : 'spotify:playlist:37i9dQZF1DWSV3Tk4GO2fq',\n",
    "    'all_out_60s' : 'spotify:playlist:37i9dQZF1DXaKIA8E7WcJj',\n",
    "    'all_out_70s' : 'spotify:playlist:37i9dQZF1DWTJ7xPn4vNaz',\n",
    "    'all_out_80s' : 'spotify:playlist:37i9dQZF1DX4UtSsGT1Sbe',\n",
    "    'all_out_90s' : 'spotify:playlist:37i9dQZF1DXbTxeAdrVG2l',\n",
    "    'all_out_00s' : 'spotify:playlist:37i9dQZF1DX4o1oenSJRJd',\n",
    "    'all_out_10s' : 'spotify:playlist:37i9dQZF1DX5Ejj0EkURtP'\n",
    "}"
   ]
  },
  {
   "cell_type": "markdown",
   "metadata": {},
   "source": [
    "Now all we have to do is pass this dict into the second function above to get our beast of a dataframe."
   ]
  },
  {
   "cell_type": "code",
   "execution_count": null,
   "metadata": {},
   "outputs": [],
   "source": [
    "df = analyze_playlist_dict(decades_URIs)"
   ]
  },
  {
   "cell_type": "markdown",
   "metadata": {},
   "source": [
    "## Part 2: Data Cleaning"
   ]
  },
  {
   "cell_type": "code",
   "execution_count": null,
   "metadata": {},
   "outputs": [],
   "source": []
  },
  {
   "cell_type": "markdown",
   "metadata": {},
   "source": [
    "## Part 3: Data Exploration and Vizualization"
   ]
  },
  {
   "cell_type": "code",
   "execution_count": null,
   "metadata": {},
   "outputs": [],
   "source": []
  },
  {
   "cell_type": "markdown",
   "metadata": {},
   "source": [
    "## Part 4: Data Analysis"
   ]
  },
  {
   "cell_type": "code",
   "execution_count": null,
   "metadata": {},
   "outputs": [],
   "source": []
  },
  {
   "cell_type": "markdown",
   "metadata": {},
   "source": [
    "## Part 5: Data Interpretation"
   ]
  },
  {
   "cell_type": "code",
   "execution_count": null,
   "metadata": {},
   "outputs": [],
   "source": []
  },
  {
   "cell_type": "markdown",
   "metadata": {},
   "source": [
    "https://towardsdatascience.com/how-to-create-large-music-datasets-using-spotipy-40e7242cc6a6\n",
    "https://spotipy.readthedocs.io/en/2.16.1/#api-reference"
   ]
  }
 ],
 "metadata": {
  "kernelspec": {
   "display_name": "Python 3",
   "language": "python",
   "name": "python3"
  },
  "language_info": {
   "codemirror_mode": {
    "name": "ipython",
    "version": 3
   },
   "file_extension": ".py",
   "mimetype": "text/x-python",
   "name": "python",
   "nbconvert_exporter": "python",
   "pygments_lexer": "ipython3",
   "version": "3.8.5"
  }
 },
 "nbformat": 4,
 "nbformat_minor": 4
}
